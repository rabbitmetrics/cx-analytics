{
 "cells": [
  {
   "cell_type": "markdown",
   "metadata": {
    "colab_type": "text",
    "id": "view-in-github"
   },
   "source": [
    "<a href=\"https://colab.research.google.com/github/rabbitmetrics/cx-analytics/blob/main/notebooks/cx-analytics.ipynb\" target=\"_parent\"><img src=\"https://colab.research.google.com/assets/colab-badge.svg\" alt=\"Open In Colab\"/></a>"
   ]
  },
  {
   "cell_type": "code",
   "execution_count": 7,
   "metadata": {
    "id": "i3xWnnmM9Zu0"
   },
   "outputs": [],
   "source": [
    "# Link to the data https://cseweb.ucsd.edu/~jmcauley/datasets/amazon_v2/"
   ]
  },
  {
   "cell_type": "code",
   "execution_count": 8,
   "metadata": {},
   "outputs": [],
   "source": [
    "# !pip install python-dotenv==1.0.0\n",
    "# !pip install pandas==2.0.1\n",
    "# !pip install langchain==0.0.137\n",
    "# !pip install openai==0.27.5\n",
    "# !pip install pinecone-client==2.2.1\n",
    "# !pip install tqdm==4.65.0\n",
    "# !pip install sentence-transformers==2.2.2\n",
    "# !pip install scikit-learn==1.2.2\n",
    "# !pip install llama-cpp-python==0.1.48\n",
    "# !pip install huggingface_hub==0.14.1\n",
    "# !pip install sentence_transformers==2.2.2\n",
    "# !pip install faiss-gpu==1.7.2\n",
    "# !pip install protobuf==3.20.3"
   ]
  },
  {
   "cell_type": "code",
   "execution_count": null,
   "metadata": {
    "ExecuteTime": {
     "end_time": "2023-05-09T21:21:52.988555700Z",
     "start_time": "2023-05-09T21:21:52.876295Z"
    }
   },
   "outputs": [],
   "source": [
    "# Login to huggingface hub\n",
    "from huggingface_hub import notebook_login\n",
    "notebook_login()"
   ]
  },
  {
   "cell_type": "code",
   "execution_count": 10,
   "metadata": {
    "ExecuteTime": {
     "end_time": "2023-05-09T21:22:02.040371300Z",
     "start_time": "2023-05-09T21:21:58.653465800Z"
    },
    "id": "GVUQKzjI9DD6"
   },
   "outputs": [
    {
     "data": {
      "text/plain": [
       "False"
      ]
     },
     "execution_count": 10,
     "metadata": {},
     "output_type": "execute_result"
    }
   ],
   "source": [
    "import os\n",
    "import json\n",
    "import gzip\n",
    "import pandas as pd\n",
    "from urllib.request import urlopen\n",
    "\n",
    "from dotenv import load_dotenv,find_dotenv\n",
    "\n",
    "load_dotenv(find_dotenv())"
   ]
  },
  {
   "cell_type": "code",
   "execution_count": 11,
   "metadata": {
    "ExecuteTime": {
     "end_time": "2023-05-09T21:22:06.434733700Z",
     "start_time": "2023-05-09T21:22:06.412645400Z"
    }
   },
   "outputs": [],
   "source": [
    "# If using Google Colab, mount your Google Drive\n",
    "# from google.colab import drive\n",
    "# drive.mount(\"google_drive\")"
   ]
  },
  {
   "cell_type": "code",
   "execution_count": 12,
   "metadata": {
    "ExecuteTime": {
     "end_time": "2023-05-09T21:22:16.142167400Z",
     "start_time": "2023-05-09T21:22:11.937918200Z"
    },
    "id": "xfMx26bI9UYC"
   },
   "outputs": [
    {
     "name": "stdout",
     "output_type": "stream",
     "text": [
      "total load data: 83497 , total load meta data: 23950 , ignored meta data: 195\n"
     ]
    }
   ],
   "source": [
    "# Extract data from files\n",
    "data = []\n",
    "with gzip.open('data/Amazon_Fashion.json.gz') as f:\n",
    "    for l in f:\n",
    "        data.append(json.loads(l.strip()))\n",
    "        \n",
    "metadata = []\n",
    "with gzip.open('data/meta_Amazon_Fashion.json.gz') as f:\n",
    "    i = 0\n",
    "    for l in f:\n",
    "      try:\n",
    "        j = json.loads(l.strip())\n",
    "        metadata.append(j)\n",
    "      except:\n",
    "        i += 1\n",
    "        continue\n",
    "\n",
    "print(\"total load data:\", len(data), \", total load meta data:\", len(metadata), \", ignored meta data:\", i)"
   ]
  },
  {
   "cell_type": "code",
   "execution_count": 13,
   "metadata": {
    "ExecuteTime": {
     "end_time": "2023-05-09T21:34:19.170687100Z",
     "start_time": "2023-05-09T21:34:19.162045600Z"
    }
   },
   "outputs": [
    {
     "name": "stdout",
     "output_type": "stream",
     "text": [
      "{'reviewerID': 'A2LOTV0TWU6UQI', 'asin': '1880241196', 'reviewerName': 'Patricia Vincent', 'helpful': [4, 4], 'reviewText': \"I ordered this for Christmas for my grandson along with a pair of binoculars.I thought I was ordering a book and was surprised by this thin booklet.Its written for adults not children, more for taking your children out looking for birds.I am not returning it because its now too close to Christmas to order anything else.Just letting any reader know, its a small booklet, not a book and it's not something that would be easy to read by children.I wish I had read the whole description.\", 'overall': 1.0, 'summary': 'Did not read the whole paragragh', 'unixReviewTime': 1355270400, 'reviewTime': '12 12, 2012'}\n",
      "{'asin': '1880241196', 'title': \"Bird Watching For Kids - A Special Publication from Bird Watcher's Digest\", 'price': 4.5, 'imUrl': 'http://ecx.images-amazon.com/images/I/51GhsVrjLCL._SY300_.jpg', 'salesRank': {'Watches': 54623}, 'categories': 'Amazon Fashion'}\n"
     ]
    }
   ],
   "source": [
    "print(data[0])\n",
    "print(metadata[0])"
   ]
  },
  {
   "cell_type": "code",
   "execution_count": 14,
   "metadata": {
    "ExecuteTime": {
     "end_time": "2023-05-09T21:34:04.855153700Z",
     "start_time": "2023-05-09T21:34:04.814943800Z"
    },
    "id": "buRtJKFV9c-D"
   },
   "outputs": [],
   "source": [
    "# Load the data to dataframes\n",
    "\n",
    "df = pd.DataFrame.from_dict(data)\n",
    "df = df[df['reviewText'].notna()]\n",
    "\n",
    "df_meta=pd.DataFrame.from_dict(metadata)"
   ]
  },
  {
   "cell_type": "code",
   "execution_count": 15,
   "metadata": {
    "ExecuteTime": {
     "end_time": "2023-05-09T21:22:26.533372900Z",
     "start_time": "2023-05-09T21:22:26.479068500Z"
    }
   },
   "outputs": [
    {
     "data": {
      "text/html": [
       "<div>\n",
       "<style scoped>\n",
       "    .dataframe tbody tr th:only-of-type {\n",
       "        vertical-align: middle;\n",
       "    }\n",
       "\n",
       "    .dataframe tbody tr th {\n",
       "        vertical-align: top;\n",
       "    }\n",
       "\n",
       "    .dataframe thead th {\n",
       "        text-align: right;\n",
       "    }\n",
       "</style>\n",
       "<table border=\"1\" class=\"dataframe\">\n",
       "  <thead>\n",
       "    <tr style=\"text-align: right;\">\n",
       "      <th></th>\n",
       "      <th>reviewerID</th>\n",
       "      <th>asin</th>\n",
       "      <th>reviewerName</th>\n",
       "      <th>helpful</th>\n",
       "      <th>reviewText</th>\n",
       "      <th>overall</th>\n",
       "      <th>summary</th>\n",
       "      <th>unixReviewTime</th>\n",
       "      <th>reviewTime</th>\n",
       "    </tr>\n",
       "  </thead>\n",
       "  <tbody>\n",
       "    <tr>\n",
       "      <th>0</th>\n",
       "      <td>A2LOTV0TWU6UQI</td>\n",
       "      <td>1880241196</td>\n",
       "      <td>Patricia Vincent</td>\n",
       "      <td>[4, 4]</td>\n",
       "      <td>I ordered this for Christmas for my grandson a...</td>\n",
       "      <td>1.0</td>\n",
       "      <td>Did not read the whole paragragh</td>\n",
       "      <td>1355270400</td>\n",
       "      <td>12 12, 2012</td>\n",
       "    </tr>\n",
       "    <tr>\n",
       "      <th>1</th>\n",
       "      <td>A1H1L1MZXLMGJ3</td>\n",
       "      <td>3890968740</td>\n",
       "      <td>Shannon Farms \"Children's Library Assistant\"</td>\n",
       "      <td>[0, 0]</td>\n",
       "      <td>I got this watch for my 13 year old daughter. ...</td>\n",
       "      <td>4.0</td>\n",
       "      <td>So far still ticking away</td>\n",
       "      <td>1362182400</td>\n",
       "      <td>03 2, 2013</td>\n",
       "    </tr>\n",
       "    <tr>\n",
       "      <th>2</th>\n",
       "      <td>A2H3F19K13QQOX</td>\n",
       "      <td>5555014597</td>\n",
       "      <td>Cindy Littlejohn</td>\n",
       "      <td>[0, 0]</td>\n",
       "      <td>3rd year running I have brought these, takes a...</td>\n",
       "      <td>5.0</td>\n",
       "      <td>3rd year purchased, always good hats!</td>\n",
       "      <td>1357257600</td>\n",
       "      <td>01 4, 2013</td>\n",
       "    </tr>\n",
       "  </tbody>\n",
       "</table>\n",
       "</div>"
      ],
      "text/plain": [
       "       reviewerID        asin                                  reviewerName   \n",
       "0  A2LOTV0TWU6UQI  1880241196                              Patricia Vincent  \\\n",
       "1  A1H1L1MZXLMGJ3  3890968740  Shannon Farms \"Children's Library Assistant\"   \n",
       "2  A2H3F19K13QQOX  5555014597                              Cindy Littlejohn   \n",
       "\n",
       "  helpful                                         reviewText  overall   \n",
       "0  [4, 4]  I ordered this for Christmas for my grandson a...      1.0  \\\n",
       "1  [0, 0]  I got this watch for my 13 year old daughter. ...      4.0   \n",
       "2  [0, 0]  3rd year running I have brought these, takes a...      5.0   \n",
       "\n",
       "                                 summary  unixReviewTime   reviewTime  \n",
       "0       Did not read the whole paragragh      1355270400  12 12, 2012  \n",
       "1              So far still ticking away      1362182400   03 2, 2013  \n",
       "2  3rd year purchased, always good hats!      1357257600   01 4, 2013  "
      ]
     },
     "execution_count": 15,
     "metadata": {},
     "output_type": "execute_result"
    }
   ],
   "source": [
    "df.head(3)"
   ]
  },
  {
   "cell_type": "code",
   "execution_count": 16,
   "metadata": {
    "ExecuteTime": {
     "end_time": "2023-05-09T21:22:28.258195800Z",
     "start_time": "2023-05-09T21:22:28.157264300Z"
    }
   },
   "outputs": [
    {
     "data": {
      "text/html": [
       "<div>\n",
       "<style scoped>\n",
       "    .dataframe tbody tr th:only-of-type {\n",
       "        vertical-align: middle;\n",
       "    }\n",
       "\n",
       "    .dataframe tbody tr th {\n",
       "        vertical-align: top;\n",
       "    }\n",
       "\n",
       "    .dataframe thead th {\n",
       "        text-align: right;\n",
       "    }\n",
       "</style>\n",
       "<table border=\"1\" class=\"dataframe\">\n",
       "  <thead>\n",
       "    <tr style=\"text-align: right;\">\n",
       "      <th></th>\n",
       "      <th>asin</th>\n",
       "      <th>title</th>\n",
       "      <th>price</th>\n",
       "      <th>imUrl</th>\n",
       "      <th>salesRank</th>\n",
       "      <th>categories</th>\n",
       "      <th>brand</th>\n",
       "      <th>description</th>\n",
       "    </tr>\n",
       "  </thead>\n",
       "  <tbody>\n",
       "    <tr>\n",
       "      <th>0</th>\n",
       "      <td>1880241196</td>\n",
       "      <td>Bird Watching For Kids - A Special Publication...</td>\n",
       "      <td>4.5</td>\n",
       "      <td>http://ecx.images-amazon.com/images/I/51GhsVrj...</td>\n",
       "      <td>{'Watches': 54623}</td>\n",
       "      <td>Amazon Fashion</td>\n",
       "      <td>NaN</td>\n",
       "      <td>NaN</td>\n",
       "    </tr>\n",
       "    <tr>\n",
       "      <th>1</th>\n",
       "      <td>3890968740</td>\n",
       "      <td>NEW Mango Yellow Mix Colorful Jelly Silicone S...</td>\n",
       "      <td>NaN</td>\n",
       "      <td>http://ecx.images-amazon.com/images/I/51cDlNPM...</td>\n",
       "      <td>{'Watches': 199658}</td>\n",
       "      <td>[['Amazon Fashion']]</td>\n",
       "      <td>NaN</td>\n",
       "      <td>NaN</td>\n",
       "    </tr>\n",
       "    <tr>\n",
       "      <th>2</th>\n",
       "      <td>5555014597</td>\n",
       "      <td>Top Gear Official Merchandise - Top Gear Baseb...</td>\n",
       "      <td>19.5</td>\n",
       "      <td>http://ecx.images-amazon.com/images/I/41PAOE%2...</td>\n",
       "      <td>{'Clothing': 296726}</td>\n",
       "      <td>Amazon Fashion</td>\n",
       "      <td>NaN</td>\n",
       "      <td>NaN</td>\n",
       "    </tr>\n",
       "  </tbody>\n",
       "</table>\n",
       "</div>"
      ],
      "text/plain": [
       "         asin                                              title  price   \n",
       "0  1880241196  Bird Watching For Kids - A Special Publication...    4.5  \\\n",
       "1  3890968740  NEW Mango Yellow Mix Colorful Jelly Silicone S...    NaN   \n",
       "2  5555014597  Top Gear Official Merchandise - Top Gear Baseb...   19.5   \n",
       "\n",
       "                                               imUrl             salesRank   \n",
       "0  http://ecx.images-amazon.com/images/I/51GhsVrj...    {'Watches': 54623}  \\\n",
       "1  http://ecx.images-amazon.com/images/I/51cDlNPM...   {'Watches': 199658}   \n",
       "2  http://ecx.images-amazon.com/images/I/41PAOE%2...  {'Clothing': 296726}   \n",
       "\n",
       "             categories brand description  \n",
       "0        Amazon Fashion   NaN         NaN  \n",
       "1  [['Amazon Fashion']]   NaN         NaN  \n",
       "2        Amazon Fashion   NaN         NaN  "
      ]
     },
     "execution_count": 16,
     "metadata": {},
     "output_type": "execute_result"
    }
   ],
   "source": [
    "df_meta.head(3)"
   ]
  },
  {
   "cell_type": "code",
   "execution_count": 17,
   "metadata": {
    "ExecuteTime": {
     "end_time": "2023-05-09T21:22:31.932344900Z",
     "start_time": "2023-05-09T21:22:31.579191400Z"
    },
    "id": "MWsFKkQj9g5f"
   },
   "outputs": [],
   "source": [
    "# Truncate the reviewText\n",
    "\n",
    "max_text_length=400\n",
    "def truncate_review(text):\n",
    "    return text[:max_text_length]\n",
    "\n",
    "df['truncated']=df.apply(lambda row: truncate_review(row['reviewText']),axis=1)"
   ]
  },
  {
   "cell_type": "code",
   "execution_count": 18,
   "metadata": {
    "ExecuteTime": {
     "end_time": "2023-05-09T21:22:42.520270700Z",
     "start_time": "2023-05-09T21:22:42.295908900Z"
    },
    "id": "kx2Mumm99kRS"
   },
   "outputs": [
    {
     "data": {
      "text/html": [
       "<div>\n",
       "<style scoped>\n",
       "    .dataframe tbody tr th:only-of-type {\n",
       "        vertical-align: middle;\n",
       "    }\n",
       "\n",
       "    .dataframe tbody tr th {\n",
       "        vertical-align: top;\n",
       "    }\n",
       "\n",
       "    .dataframe thead th {\n",
       "        text-align: right;\n",
       "    }\n",
       "</style>\n",
       "<table border=\"1\" class=\"dataframe\">\n",
       "  <thead>\n",
       "    <tr style=\"text-align: right;\">\n",
       "      <th></th>\n",
       "      <th>reviewerID</th>\n",
       "      <th>reviewerName</th>\n",
       "      <th>helpful</th>\n",
       "      <th>reviewText</th>\n",
       "      <th>overall</th>\n",
       "      <th>summary</th>\n",
       "      <th>unixReviewTime</th>\n",
       "      <th>reviewTime</th>\n",
       "      <th>truncated</th>\n",
       "    </tr>\n",
       "    <tr>\n",
       "      <th>asin</th>\n",
       "      <th></th>\n",
       "      <th></th>\n",
       "      <th></th>\n",
       "      <th></th>\n",
       "      <th></th>\n",
       "      <th></th>\n",
       "      <th></th>\n",
       "      <th></th>\n",
       "      <th></th>\n",
       "    </tr>\n",
       "  </thead>\n",
       "  <tbody>\n",
       "    <tr>\n",
       "      <th>1880241196</th>\n",
       "      <td>1</td>\n",
       "      <td>1</td>\n",
       "      <td>1</td>\n",
       "      <td>1</td>\n",
       "      <td>1</td>\n",
       "      <td>1</td>\n",
       "      <td>1</td>\n",
       "      <td>1</td>\n",
       "      <td>1</td>\n",
       "    </tr>\n",
       "    <tr>\n",
       "      <th>B006IABUNW</th>\n",
       "      <td>1</td>\n",
       "      <td>1</td>\n",
       "      <td>1</td>\n",
       "      <td>1</td>\n",
       "      <td>1</td>\n",
       "      <td>1</td>\n",
       "      <td>1</td>\n",
       "      <td>1</td>\n",
       "      <td>1</td>\n",
       "    </tr>\n",
       "    <tr>\n",
       "      <th>B006ICMFH0</th>\n",
       "      <td>1</td>\n",
       "      <td>1</td>\n",
       "      <td>1</td>\n",
       "      <td>1</td>\n",
       "      <td>1</td>\n",
       "      <td>1</td>\n",
       "      <td>1</td>\n",
       "      <td>1</td>\n",
       "      <td>1</td>\n",
       "    </tr>\n",
       "    <tr>\n",
       "      <th>B006IFHTKU</th>\n",
       "      <td>1</td>\n",
       "      <td>1</td>\n",
       "      <td>1</td>\n",
       "      <td>1</td>\n",
       "      <td>1</td>\n",
       "      <td>1</td>\n",
       "      <td>1</td>\n",
       "      <td>1</td>\n",
       "      <td>1</td>\n",
       "    </tr>\n",
       "    <tr>\n",
       "      <th>B006IFLEB0</th>\n",
       "      <td>1</td>\n",
       "      <td>1</td>\n",
       "      <td>1</td>\n",
       "      <td>1</td>\n",
       "      <td>1</td>\n",
       "      <td>1</td>\n",
       "      <td>1</td>\n",
       "      <td>1</td>\n",
       "      <td>1</td>\n",
       "    </tr>\n",
       "    <tr>\n",
       "      <th>...</th>\n",
       "      <td>...</td>\n",
       "      <td>...</td>\n",
       "      <td>...</td>\n",
       "      <td>...</td>\n",
       "      <td>...</td>\n",
       "      <td>...</td>\n",
       "      <td>...</td>\n",
       "      <td>...</td>\n",
       "      <td>...</td>\n",
       "    </tr>\n",
       "    <tr>\n",
       "      <th>B008HZYCEU</th>\n",
       "      <td>380</td>\n",
       "      <td>380</td>\n",
       "      <td>380</td>\n",
       "      <td>380</td>\n",
       "      <td>380</td>\n",
       "      <td>380</td>\n",
       "      <td>380</td>\n",
       "      <td>380</td>\n",
       "      <td>380</td>\n",
       "    </tr>\n",
       "    <tr>\n",
       "      <th>B001ULD9YC</th>\n",
       "      <td>392</td>\n",
       "      <td>391</td>\n",
       "      <td>392</td>\n",
       "      <td>392</td>\n",
       "      <td>392</td>\n",
       "      <td>392</td>\n",
       "      <td>392</td>\n",
       "      <td>392</td>\n",
       "      <td>392</td>\n",
       "    </tr>\n",
       "    <tr>\n",
       "      <th>B00272N9PW</th>\n",
       "      <td>491</td>\n",
       "      <td>491</td>\n",
       "      <td>491</td>\n",
       "      <td>491</td>\n",
       "      <td>491</td>\n",
       "      <td>491</td>\n",
       "      <td>491</td>\n",
       "      <td>491</td>\n",
       "      <td>491</td>\n",
       "    </tr>\n",
       "    <tr>\n",
       "      <th>B009BKWE9U</th>\n",
       "      <td>541</td>\n",
       "      <td>538</td>\n",
       "      <td>541</td>\n",
       "      <td>541</td>\n",
       "      <td>541</td>\n",
       "      <td>541</td>\n",
       "      <td>541</td>\n",
       "      <td>541</td>\n",
       "      <td>541</td>\n",
       "    </tr>\n",
       "    <tr>\n",
       "      <th>B004B8C2CQ</th>\n",
       "      <td>719</td>\n",
       "      <td>719</td>\n",
       "      <td>719</td>\n",
       "      <td>719</td>\n",
       "      <td>719</td>\n",
       "      <td>719</td>\n",
       "      <td>719</td>\n",
       "      <td>719</td>\n",
       "      <td>719</td>\n",
       "    </tr>\n",
       "  </tbody>\n",
       "</table>\n",
       "<p>20800 rows × 9 columns</p>\n",
       "</div>"
      ],
      "text/plain": [
       "            reviewerID  reviewerName  helpful  reviewText  overall  summary   \n",
       "asin                                                                          \n",
       "1880241196           1             1        1           1        1        1  \\\n",
       "B006IABUNW           1             1        1           1        1        1   \n",
       "B006ICMFH0           1             1        1           1        1        1   \n",
       "B006IFHTKU           1             1        1           1        1        1   \n",
       "B006IFLEB0           1             1        1           1        1        1   \n",
       "...                ...           ...      ...         ...      ...      ...   \n",
       "B008HZYCEU         380           380      380         380      380      380   \n",
       "B001ULD9YC         392           391      392         392      392      392   \n",
       "B00272N9PW         491           491      491         491      491      491   \n",
       "B009BKWE9U         541           538      541         541      541      541   \n",
       "B004B8C2CQ         719           719      719         719      719      719   \n",
       "\n",
       "            unixReviewTime  reviewTime  truncated  \n",
       "asin                                               \n",
       "1880241196               1           1          1  \n",
       "B006IABUNW               1           1          1  \n",
       "B006ICMFH0               1           1          1  \n",
       "B006IFHTKU               1           1          1  \n",
       "B006IFLEB0               1           1          1  \n",
       "...                    ...         ...        ...  \n",
       "B008HZYCEU             380         380        380  \n",
       "B001ULD9YC             392         392        392  \n",
       "B00272N9PW             491         491        491  \n",
       "B009BKWE9U             541         541        541  \n",
       "B004B8C2CQ             719         719        719  \n",
       "\n",
       "[20800 rows x 9 columns]"
      ]
     },
     "execution_count": 18,
     "metadata": {},
     "output_type": "execute_result"
    }
   ],
   "source": [
    "# Look for productIds with enough reviews\n",
    "\n",
    "df.groupby('asin').count().sort_values('overall')"
   ]
  },
  {
   "cell_type": "code",
   "execution_count": 19,
   "metadata": {
    "ExecuteTime": {
     "end_time": "2023-05-09T21:22:44.519084500Z",
     "start_time": "2023-05-09T21:22:44.513019600Z"
    },
    "id": "drJrZ9fA-Bej"
   },
   "outputs": [],
   "source": [
    "# Work on only a slice of the dataframe\n",
    "\n",
    "df_review = df.loc[df['asin'] == 'B004B8C2CQ'].copy()"
   ]
  },
  {
   "cell_type": "code",
   "execution_count": 20,
   "metadata": {},
   "outputs": [
    {
     "data": {
      "text/plain": [
       "719"
      ]
     },
     "execution_count": 20,
     "metadata": {},
     "output_type": "execute_result"
    }
   ],
   "source": [
    "len(df_review)"
   ]
  },
  {
   "cell_type": "markdown",
   "metadata": {},
   "source": [
    "## Now applying AI models to analyze the data"
   ]
  },
  {
   "cell_type": "code",
   "execution_count": 21,
   "metadata": {
    "ExecuteTime": {
     "end_time": "2023-05-09T21:22:51.171052400Z",
     "start_time": "2023-05-09T21:22:51.165052Z"
    }
   },
   "outputs": [],
   "source": [
    "# Set huggingface cache directory if necessary\n",
    "import sys, os\n",
    "\n",
    "hf_home = \"/mnt/e/huggingface/cache\"\n",
    "os.environ['HF_HOME'] = hf_home\n",
    "os.environ['HUGGINGFACE_HUB_CACHE'] = hf_home + \"/hub\"\n",
    "os.environ['SENTENCE_TRANSFORMERS_HOME'] = hf_home + \"/torch/sentence_transformers\""
   ]
  },
  {
   "cell_type": "code",
   "execution_count": 22,
   "metadata": {
    "ExecuteTime": {
     "start_time": "2023-05-09T21:23:03.750701100Z"
    },
    "id": "7rDcZEKx-No4",
    "is_executing": true
   },
   "outputs": [],
   "source": [
    "# Using HuggingFaceEmbeddings\n",
    "\n",
    "from langchain.embeddings import HuggingFaceEmbeddings\n",
    "embeddings = HuggingFaceEmbeddings()"
   ]
  },
  {
   "cell_type": "code",
   "execution_count": 28,
   "metadata": {
    "ExecuteTime": {
     "end_time": "2023-05-09T21:33:57.325522600Z",
     "start_time": "2023-05-09T21:33:57.315514600Z"
    }
   },
   "outputs": [
    {
     "data": {
      "text/html": [
       "<div>\n",
       "<style scoped>\n",
       "    .dataframe tbody tr th:only-of-type {\n",
       "        vertical-align: middle;\n",
       "    }\n",
       "\n",
       "    .dataframe tbody tr th {\n",
       "        vertical-align: top;\n",
       "    }\n",
       "\n",
       "    .dataframe thead th {\n",
       "        text-align: right;\n",
       "    }\n",
       "</style>\n",
       "<table border=\"1\" class=\"dataframe\">\n",
       "  <thead>\n",
       "    <tr style=\"text-align: right;\">\n",
       "      <th></th>\n",
       "      <th>reviewerID</th>\n",
       "      <th>asin</th>\n",
       "      <th>reviewerName</th>\n",
       "      <th>helpful</th>\n",
       "      <th>reviewText</th>\n",
       "      <th>overall</th>\n",
       "      <th>summary</th>\n",
       "      <th>unixReviewTime</th>\n",
       "      <th>reviewTime</th>\n",
       "      <th>truncated</th>\n",
       "      <th>embeddings</th>\n",
       "    </tr>\n",
       "  </thead>\n",
       "  <tbody>\n",
       "    <tr>\n",
       "      <th>37582</th>\n",
       "      <td>A26QHY5FHZ1HGO</td>\n",
       "      <td>B004B8C2CQ</td>\n",
       "      <td>A. Ahmed</td>\n",
       "      <td>[0, 0]</td>\n",
       "      <td>It is a great material, great color! and a goo...</td>\n",
       "      <td>5.0</td>\n",
       "      <td>great material, great color!</td>\n",
       "      <td>1358640000</td>\n",
       "      <td>01 20, 2013</td>\n",
       "      <td>It is a great material, great color! and a goo...</td>\n",
       "      <td>[0.012763723731040955, 0.05646521970629692, -0...</td>\n",
       "    </tr>\n",
       "    <tr>\n",
       "      <th>37583</th>\n",
       "      <td>A1UHYD0RBA0AVM</td>\n",
       "      <td>B004B8C2CQ</td>\n",
       "      <td>aak</td>\n",
       "      <td>[0, 0]</td>\n",
       "      <td>I purchased the blue and white colorway and I ...</td>\n",
       "      <td>5.0</td>\n",
       "      <td>Looks amazing</td>\n",
       "      <td>1344643200</td>\n",
       "      <td>08 11, 2012</td>\n",
       "      <td>I purchased the blue and white colorway and I ...</td>\n",
       "      <td>[0.005255925469100475, 0.05292578414082527, 0....</td>\n",
       "    </tr>\n",
       "    <tr>\n",
       "      <th>37584</th>\n",
       "      <td>A1RC0SK3X55PQK</td>\n",
       "      <td>B004B8C2CQ</td>\n",
       "      <td>Aaron Don</td>\n",
       "      <td>[0, 0]</td>\n",
       "      <td>It didn't feel like its supposed to be warm li...</td>\n",
       "      <td>3.0</td>\n",
       "      <td>yeah shemagh</td>\n",
       "      <td>1390867200</td>\n",
       "      <td>01 28, 2014</td>\n",
       "      <td>It didn't feel like its supposed to be warm li...</td>\n",
       "      <td>[-0.0018896874971687794, -0.030937310308218002...</td>\n",
       "    </tr>\n",
       "  </tbody>\n",
       "</table>\n",
       "</div>"
      ],
      "text/plain": [
       "           reviewerID        asin reviewerName helpful   \n",
       "37582  A26QHY5FHZ1HGO  B004B8C2CQ     A. Ahmed  [0, 0]  \\\n",
       "37583  A1UHYD0RBA0AVM  B004B8C2CQ          aak  [0, 0]   \n",
       "37584  A1RC0SK3X55PQK  B004B8C2CQ    Aaron Don  [0, 0]   \n",
       "\n",
       "                                              reviewText  overall   \n",
       "37582  It is a great material, great color! and a goo...      5.0  \\\n",
       "37583  I purchased the blue and white colorway and I ...      5.0   \n",
       "37584  It didn't feel like its supposed to be warm li...      3.0   \n",
       "\n",
       "                            summary  unixReviewTime   reviewTime   \n",
       "37582  great material, great color!      1358640000  01 20, 2013  \\\n",
       "37583                 Looks amazing      1344643200  08 11, 2012   \n",
       "37584                  yeah shemagh      1390867200  01 28, 2014   \n",
       "\n",
       "                                               truncated   \n",
       "37582  It is a great material, great color! and a goo...  \\\n",
       "37583  I purchased the blue and white colorway and I ...   \n",
       "37584  It didn't feel like its supposed to be warm li...   \n",
       "\n",
       "                                              embeddings  \n",
       "37582  [0.012763723731040955, 0.05646521970629692, -0...  \n",
       "37583  [0.005255925469100475, 0.05292578414082527, 0....  \n",
       "37584  [-0.0018896874971687794, -0.030937310308218002...  "
      ]
     },
     "execution_count": 28,
     "metadata": {},
     "output_type": "execute_result"
    }
   ],
   "source": [
    "df_review['embeddings']=df_review.apply(lambda row: embeddings.embed_query(row['truncated']), axis=1)\n",
    "df_review.head(3)"
   ]
  },
  {
   "cell_type": "code",
   "execution_count": 29,
   "metadata": {},
   "outputs": [
    {
     "data": {
      "text/html": [
       "<div>\n",
       "<style scoped>\n",
       "    .dataframe tbody tr th:only-of-type {\n",
       "        vertical-align: middle;\n",
       "    }\n",
       "\n",
       "    .dataframe tbody tr th {\n",
       "        vertical-align: top;\n",
       "    }\n",
       "\n",
       "    .dataframe thead th {\n",
       "        text-align: right;\n",
       "    }\n",
       "</style>\n",
       "<table border=\"1\" class=\"dataframe\">\n",
       "  <thead>\n",
       "    <tr style=\"text-align: right;\">\n",
       "      <th></th>\n",
       "      <th>asin</th>\n",
       "      <th>title</th>\n",
       "      <th>price</th>\n",
       "      <th>imUrl</th>\n",
       "      <th>salesRank</th>\n",
       "      <th>categories</th>\n",
       "      <th>brand</th>\n",
       "      <th>description</th>\n",
       "    </tr>\n",
       "  </thead>\n",
       "  <tbody>\n",
       "    <tr>\n",
       "      <th>9419</th>\n",
       "      <td>B004B8C2CQ</td>\n",
       "      <td>Premium Shemagh Head Neck Scarf by Tapp Collec...</td>\n",
       "      <td>11.99</td>\n",
       "      <td>http://ecx.images-amazon.com/images/I/51ou0U3H...</td>\n",
       "      <td>{'Clothing': 219}</td>\n",
       "      <td>Amazon Fashion</td>\n",
       "      <td>NaN</td>\n",
       "      <td>NaN</td>\n",
       "    </tr>\n",
       "  </tbody>\n",
       "</table>\n",
       "</div>"
      ],
      "text/plain": [
       "            asin                                              title  price   \n",
       "9419  B004B8C2CQ  Premium Shemagh Head Neck Scarf by Tapp Collec...  11.99  \\\n",
       "\n",
       "                                                  imUrl          salesRank   \n",
       "9419  http://ecx.images-amazon.com/images/I/51ou0U3H...  {'Clothing': 219}  \\\n",
       "\n",
       "          categories brand description  \n",
       "9419  Amazon Fashion   NaN         NaN  "
      ]
     },
     "execution_count": 29,
     "metadata": {},
     "output_type": "execute_result"
    }
   ],
   "source": [
    "df_meta[df_meta.asin=='B004B8C2CQ']"
   ]
  },
  {
   "cell_type": "code",
   "execution_count": 25,
   "metadata": {
    "ExecuteTime": {
     "end_time": "2023-05-09T17:17:04.518171Z",
     "start_time": "2023-05-09T17:17:02.988547400Z"
    },
    "id": "NqW4Zg_u-gHd"
   },
   "outputs": [],
   "source": [
    "# Prepare training and test sets for training Random Forest Regressor\n",
    "\n",
    "from sklearn.model_selection import train_test_split\n",
    "from sklearn.metrics import mean_absolute_error\n",
    "from sklearn.metrics import mean_squared_error\n",
    "\n",
    "X_train, X_test, y_train, y_test = train_test_split(\n",
    "    list(df_review.embeddings.values),\n",
    "    df_review.overall,\n",
    "    test_size = 0.2,\n",
    "    random_state=1\n",
    ")\n"
   ]
  },
  {
   "cell_type": "code",
   "execution_count": 26,
   "metadata": {
    "id": "_5X0kZDN-a5q"
   },
   "outputs": [
    {
     "name": "stdout",
     "output_type": "stream",
     "text": [
      "Root Mean Absolute Error: 0.8756214724199967 , Root Mean Squared Error: 0.9171559300358909\n"
     ]
    }
   ],
   "source": [
    "# Train and calculate mean absolute error\n",
    "import numpy as np\n",
    "from sklearn.ensemble import RandomForestRegressor\n",
    "\n",
    "model = RandomForestRegressor(n_estimators=150)\n",
    "model.fit(X_train, y_train)\n",
    "y_pred = model.predict(X_test)\n",
    "\n",
    "mae = mean_absolute_error(y_test, y_pred)\n",
    "rmae = np.sqrt(mae)\n",
    "mse = mean_squared_error(y_test, y_pred)\n",
    "rmse = np.sqrt(mse)\n",
    "print(\"Root Mean Absolute Error:\", rmae, \", Root Mean Squared Error:\", rmse)"
   ]
  },
  {
   "cell_type": "code",
   "execution_count": 27,
   "metadata": {},
   "outputs": [],
   "source": [
    "# Create list with truncated review texts\n",
    "\n",
    "texts=df['truncated'].tolist()"
   ]
  },
  {
   "cell_type": "markdown",
   "metadata": {},
   "source": [
    "## Create the Vectorstore\n",
    "\n",
    "### Option 1. Use Pinecone as the vectorstore"
   ]
  },
  {
   "cell_type": "code",
   "execution_count": 57,
   "metadata": {
    "id": "ERZwBLrm_D6D"
   },
   "outputs": [],
   "source": [
    "# Import Pinecone client\n",
    "\n",
    "import pinecone\n",
    "from langchain.vectorstores import Pinecone\n",
    "\n",
    "# Initialize Pinecone\n",
    "pinecone.init(\n",
    "    api_key= os.getenv('PINECONE_API_KEY'),  \n",
    "    environment= os.getenv('PINECONE_ENV')  \n",
    ")"
   ]
  },
  {
   "cell_type": "code",
   "execution_count": null,
   "metadata": {
    "id": "isuWWKbq_5Ew"
   },
   "outputs": [],
   "source": [
    "# Send embedding vectors to Pinecone with Langchain\n",
    "\n",
    "vstore = Pinecone.from_texts(texts, embeddings, index_name='cxanalytics')"
   ]
  },
  {
   "cell_type": "code",
   "execution_count": null,
   "metadata": {
    "id": "v6bdMsFEAM_a"
   },
   "outputs": [],
   "source": [
    "# Do a basic vector similarity search\n",
    "\n",
    "query = \"poor product\"\n",
    "result = vstore.similarity_search(query)\n",
    "print(result)"
   ]
  },
  {
   "cell_type": "markdown",
   "metadata": {},
   "source": [
    "### Option 2. Use FAISS as the vectorstore"
   ]
  },
  {
   "cell_type": "code",
   "execution_count": 30,
   "metadata": {},
   "outputs": [],
   "source": [
    "from langchain.vectorstores import FAISS\n",
    "faiss_vstore = FAISS.from_texts(texts, embeddings)"
   ]
  },
  {
   "cell_type": "code",
   "execution_count": 37,
   "metadata": {
    "scrolled": true
   },
   "outputs": [
    {
     "name": "stdout",
     "output_type": "stream",
     "text": [
      "[Document(page_content='Poor quality', metadata={}), Document(page_content='Poor quality.', metadata={}), Document(page_content='Poor quality.', metadata={}), Document(page_content='Great design. Poor quality', metadata={})]\n"
     ]
    }
   ],
   "source": [
    "# Do a basic vector similarity search\n",
    "\n",
    "query = \"poor product\"\n",
    "result = faiss_vstore.similarity_search(query)\n",
    "print(result)"
   ]
  },
  {
   "cell_type": "code",
   "execution_count": 32,
   "metadata": {},
   "outputs": [],
   "source": [
    "vstore = faiss_vstore"
   ]
  },
  {
   "cell_type": "markdown",
   "metadata": {},
   "source": [
    "## Use RetrievalQA to interact with AI\n",
    "### Option 1. Use ChatGPT"
   ]
  },
  {
   "cell_type": "code",
   "execution_count": null,
   "metadata": {
    "id": "l4wke6atAHqO"
   },
   "outputs": [],
   "source": [
    "# Import RetrievalQA adn ChatOpenAPI and define review_chain in order to have GPT-4 access the review data\n",
    "\n",
    "from langchain.chains import RetrievalQA\n",
    "from langchain.chat_models import ChatOpenAI\n",
    "\n",
    "chat = ChatOpenAI(model_name=\"gpt-4\",temperature=0.0)\n",
    "review_chain = RetrievalQA.from_chain_type(llm=chat, chain_type=\"stuff\", retriever=vstore.as_retriever())"
   ]
  },
  {
   "cell_type": "markdown",
   "metadata": {},
   "source": [
    "### Option2. Use HuggingFace Local AI model"
   ]
  },
  {
   "cell_type": "code",
   "execution_count": 46,
   "metadata": {},
   "outputs": [
    {
     "name": "stderr",
     "output_type": "stream",
     "text": [
      "llama.cpp: loading model from models/ggml-vicuna-13b-1.1-q4_2.bin\n",
      "llama_model_load_internal: format     = ggjt v1 (latest)\n",
      "llama_model_load_internal: n_vocab    = 32000\n",
      "llama_model_load_internal: n_ctx      = 2048\n",
      "llama_model_load_internal: n_embd     = 5120\n",
      "llama_model_load_internal: n_mult     = 256\n",
      "llama_model_load_internal: n_head     = 40\n",
      "llama_model_load_internal: n_layer    = 40\n",
      "llama_model_load_internal: n_rot      = 128\n",
      "llama_model_load_internal: ftype      = 5 (mostly Q4_2)\n",
      "llama_model_load_internal: n_ff       = 13824\n",
      "llama_model_load_internal: n_parts    = 1\n",
      "llama_model_load_internal: model size = 13B\n",
      "llama_model_load_internal: ggml ctx size =  85.08 KB\n",
      "llama_model_load_internal: mem required  = 9807.48 MB (+ 3216.00 MB per state)\n",
      "AVX = 1 | AVX2 = 1 | AVX512 = 1 | AVX512_VBMI = 1 | AVX512_VNNI = 1 | FMA = 1 | NEON = 0 | ARM_FMA = 0 | F16C = 1 | FP16_VA = 0 | WASM_SIMD = 0 | BLAS = 0 | SSE3 = 1 | VSX = 0 | \n",
      "llama_init_from_file: kv self size  = 3200.00 MB\n"
     ]
    }
   ],
   "source": [
    "# Import RetrievalQA adn HuggingFacePipeline to load local models\n",
    "from langchain.llms import HuggingFacePipeline\n",
    "from langchain.llms import LlamaCpp\n",
    "\n",
    "# Use HuggingFace online model. However my 3090 GPU can't load it successfully.\n",
    "# from transformers import AutoModelForCausalLM, AutoTokenizer, pipeline\n",
    "# model_id = \"TheBloke/vicuna-7B-1.1-HF\"\n",
    "# tokenizer = AutoTokenizer.from_pretrained(model_id)\n",
    "# model = AutoModelForCausalLM.from_pretrained(model_id)\n",
    "# pipe = pipeline(\"text-generation\", model=model, tokenizer=tokenizer)\n",
    "\n",
    "# Or download the quantizied model to local disk ./models/ \n",
    "# And load it via LlamaCpp\n",
    "llm = LlamaCpp(model_path=\"models/ggml-vicuna-13b-1.1-q4_2.bin\", n_ctx=2048)"
   ]
  },
  {
   "cell_type": "code",
   "execution_count": 47,
   "metadata": {
    "id": "6sneC6j3Aplc"
   },
   "outputs": [
    {
     "name": "stderr",
     "output_type": "stream",
     "text": [
      "\n",
      "llama_print_timings:        load time =  1401.45 ms\n"
     ]
    },
    {
     "data": {
      "text/plain": [
       "'\\nOverall, the reviews for the Premium Shemagh Head Neck Scarf are positive and highlight its versatility, lightweight design, and multiple uses. The product is also praised for its authenticity and quality compared to other similar products on the market. Some reviewers suggest that it can be a bit difficult to wash and dry, but this is not a prevalent issue among all reviews.\\nBased on these reviews, one suggestion for improvement could be to provide more detailed information about the care and maintenance of the product, such as how to properly wash and dry it to maintain its quality and prevent shrinkage. Additionally, providing more specific information about the different colors available and their respective patterns could also be helpful for customers.'"
      ]
     },
     "execution_count": 47,
     "metadata": {},
     "output_type": "execute_result"
    },
    {
     "name": "stderr",
     "output_type": "stream",
     "text": [
      "llama_print_timings:      sample time =    61.94 ms /   156 runs   (    0.40 ms per run)\n",
      "llama_print_timings: prompt eval time = 88428.79 ms /   492 tokens (  179.73 ms per token)\n",
      "llama_print_timings:        eval time = 44105.34 ms /   155 runs   (  284.55 ms per run)\n",
      "llama_print_timings:       total time = 140416.75 ms\n"
     ]
    }
   ],
   "source": [
    "# Define the task for GPT-4 and run the chain\n",
    "from langchain.chains import RetrievalQA\n",
    "\n",
    "q=\"\"\"The reviews you see are for a product called 'Premium Shemagh Head Neck Scarf'.\n",
    "What is the overall impression of these reviews? Give most prevalent examples in bullets. \n",
    "What do you suggest we focus on improving?\n",
    "\"\"\"\n",
    "\n",
    "review_chain = RetrievalQA.from_llm(llm=llm, retriever=vstore.as_retriever())\n",
    "result=review_chain.run(q)\n",
    "result"
   ]
  },
  {
   "cell_type": "code",
   "execution_count": 48,
   "metadata": {
    "id": "HQVLN_d-Ashz"
   },
   "outputs": [],
   "source": [
    "# Rename columns in dataframe and create metadatafield in order to do upserts with Pinecone's Python client directly\n",
    "\n",
    "df_review=df_review.rename(columns={'embeddings':'values','reviewerID':'id'})\n",
    "df_review['metadata']=df_review.apply(lambda row: dict(rating=row['overall']), axis=1)"
   ]
  },
  {
   "cell_type": "code",
   "execution_count": 49,
   "metadata": {},
   "outputs": [
    {
     "data": {
      "text/html": [
       "<div>\n",
       "<style scoped>\n",
       "    .dataframe tbody tr th:only-of-type {\n",
       "        vertical-align: middle;\n",
       "    }\n",
       "\n",
       "    .dataframe tbody tr th {\n",
       "        vertical-align: top;\n",
       "    }\n",
       "\n",
       "    .dataframe thead th {\n",
       "        text-align: right;\n",
       "    }\n",
       "</style>\n",
       "<table border=\"1\" class=\"dataframe\">\n",
       "  <thead>\n",
       "    <tr style=\"text-align: right;\">\n",
       "      <th></th>\n",
       "      <th>id</th>\n",
       "      <th>asin</th>\n",
       "      <th>reviewerName</th>\n",
       "      <th>helpful</th>\n",
       "      <th>reviewText</th>\n",
       "      <th>overall</th>\n",
       "      <th>summary</th>\n",
       "      <th>unixReviewTime</th>\n",
       "      <th>reviewTime</th>\n",
       "      <th>truncated</th>\n",
       "      <th>values</th>\n",
       "      <th>metadata</th>\n",
       "    </tr>\n",
       "  </thead>\n",
       "  <tbody>\n",
       "    <tr>\n",
       "      <th>37582</th>\n",
       "      <td>A26QHY5FHZ1HGO</td>\n",
       "      <td>B004B8C2CQ</td>\n",
       "      <td>A. Ahmed</td>\n",
       "      <td>[0, 0]</td>\n",
       "      <td>It is a great material, great color! and a goo...</td>\n",
       "      <td>5.0</td>\n",
       "      <td>great material, great color!</td>\n",
       "      <td>1358640000</td>\n",
       "      <td>01 20, 2013</td>\n",
       "      <td>It is a great material, great color! and a goo...</td>\n",
       "      <td>[0.012763723731040955, 0.05646521970629692, -0...</td>\n",
       "      <td>{'rating': 5.0}</td>\n",
       "    </tr>\n",
       "    <tr>\n",
       "      <th>37583</th>\n",
       "      <td>A1UHYD0RBA0AVM</td>\n",
       "      <td>B004B8C2CQ</td>\n",
       "      <td>aak</td>\n",
       "      <td>[0, 0]</td>\n",
       "      <td>I purchased the blue and white colorway and I ...</td>\n",
       "      <td>5.0</td>\n",
       "      <td>Looks amazing</td>\n",
       "      <td>1344643200</td>\n",
       "      <td>08 11, 2012</td>\n",
       "      <td>I purchased the blue and white colorway and I ...</td>\n",
       "      <td>[0.005255925469100475, 0.05292578414082527, 0....</td>\n",
       "      <td>{'rating': 5.0}</td>\n",
       "    </tr>\n",
       "    <tr>\n",
       "      <th>37584</th>\n",
       "      <td>A1RC0SK3X55PQK</td>\n",
       "      <td>B004B8C2CQ</td>\n",
       "      <td>Aaron Don</td>\n",
       "      <td>[0, 0]</td>\n",
       "      <td>It didn't feel like its supposed to be warm li...</td>\n",
       "      <td>3.0</td>\n",
       "      <td>yeah shemagh</td>\n",
       "      <td>1390867200</td>\n",
       "      <td>01 28, 2014</td>\n",
       "      <td>It didn't feel like its supposed to be warm li...</td>\n",
       "      <td>[-0.0018896874971687794, -0.030937310308218002...</td>\n",
       "      <td>{'rating': 3.0}</td>\n",
       "    </tr>\n",
       "  </tbody>\n",
       "</table>\n",
       "</div>"
      ],
      "text/plain": [
       "                   id        asin reviewerName helpful   \n",
       "37582  A26QHY5FHZ1HGO  B004B8C2CQ     A. Ahmed  [0, 0]  \\\n",
       "37583  A1UHYD0RBA0AVM  B004B8C2CQ          aak  [0, 0]   \n",
       "37584  A1RC0SK3X55PQK  B004B8C2CQ    Aaron Don  [0, 0]   \n",
       "\n",
       "                                              reviewText  overall   \n",
       "37582  It is a great material, great color! and a goo...      5.0  \\\n",
       "37583  I purchased the blue and white colorway and I ...      5.0   \n",
       "37584  It didn't feel like its supposed to be warm li...      3.0   \n",
       "\n",
       "                            summary  unixReviewTime   reviewTime   \n",
       "37582  great material, great color!      1358640000  01 20, 2013  \\\n",
       "37583                 Looks amazing      1344643200  08 11, 2012   \n",
       "37584                  yeah shemagh      1390867200  01 28, 2014   \n",
       "\n",
       "                                               truncated   \n",
       "37582  It is a great material, great color! and a goo...  \\\n",
       "37583  I purchased the blue and white colorway and I ...   \n",
       "37584  It didn't feel like its supposed to be warm li...   \n",
       "\n",
       "                                                  values         metadata  \n",
       "37582  [0.012763723731040955, 0.05646521970629692, -0...  {'rating': 5.0}  \n",
       "37583  [0.005255925469100475, 0.05292578414082527, 0....  {'rating': 5.0}  \n",
       "37584  [-0.0018896874971687794, -0.030937310308218002...  {'rating': 3.0}  "
      ]
     },
     "execution_count": 49,
     "metadata": {},
     "output_type": "execute_result"
    }
   ],
   "source": [
    "df_review.head(3)"
   ]
  },
  {
   "cell_type": "code",
   "execution_count": 82,
   "metadata": {
    "id": "7RAvagBLBNlf"
   },
   "outputs": [],
   "source": [
    "# Create two copies of data, one for the upsert and one for extracting reviewText from ids return from the filtered similarity search\n",
    "\n",
    "data=df_review[['metadata','values','id']].to_dict(orient='records')\n",
    "data_local=df_review[['metadata','values','reviewText','id']].to_dict(orient='records')"
   ]
  },
  {
   "cell_type": "code",
   "execution_count": 118,
   "metadata": {},
   "outputs": [],
   "source": [
    "# Get the rating from id\n",
    "\n",
    "get_rating_from_id = {\n",
    "    x['id']: {\n",
    "        'rating': x['metadata']['rating'],\n",
    "        'review': x['reviewText'],\n",
    "    } for x in data_local}"
   ]
  },
  {
   "cell_type": "markdown",
   "metadata": {},
   "source": [
    "## Use vector database to filter rate and do query.\n",
    "### Option 1. Use Pinecone"
   ]
  },
  {
   "cell_type": "code",
   "execution_count": 59,
   "metadata": {
    "id": "3XSefD1GBgJb"
   },
   "outputs": [],
   "source": [
    "# Create the Pinecone index\n",
    "\n",
    "pinecone.create_index(name='filtered', metric='euclidean', dimension=768)\n",
    "index = pinecone.Index('filtered')"
   ]
  },
  {
   "cell_type": "code",
   "execution_count": 60,
   "metadata": {
    "id": "B0OBFwUiBkc-"
   },
   "outputs": [
    {
     "data": {
      "application/vnd.jupyter.widget-view+json": {
       "model_id": "885bde09c3a74189b6c74ae97ab26cc1",
       "version_major": 2,
       "version_minor": 0
      },
      "text/plain": [
       "  0%|          | 0/15 [00:00<?, ?it/s]"
      ]
     },
     "metadata": {},
     "output_type": "display_data"
    }
   ],
   "source": [
    "# Upload the data in batches of 50\n",
    "\n",
    "from tqdm.auto import tqdm\n",
    "\n",
    "for i in tqdm(range(0, len(data), 50)):\n",
    "    j= i + 50\n",
    "    if j > len(data):\n",
    "        j = len(data)\n",
    "    batch = data[i: j]\n",
    "    index.upsert(vectors=batch)"
   ]
  },
  {
   "cell_type": "code",
   "execution_count": 115,
   "metadata": {},
   "outputs": [],
   "source": [
    "# Python function that retrieves reviews matching query and specific rate\n",
    "\n",
    "def review_and_rating(query,rating):\n",
    "    query=embeddings.embed_query(query)\n",
    "    results = index.query(queries=[query], top_k=100, filter={'rating': {'$eq': rating}})\n",
    "    ids = [i['id'] for i in results['results'][0]['matches']]\n",
    "    l=[]\n",
    "    for i in ids:\n",
    "        l.append(get_rating_from_id[i])\n",
    "    return pd.DataFrame(l)"
   ]
  },
  {
   "cell_type": "code",
   "execution_count": null,
   "metadata": {},
   "outputs": [],
   "source": [
    "# Repurchase list and winback list\n",
    "\n",
    "repurchase_list=review_and_rating('will purchase again', 5.0)\n",
    "\n",
    "winback=review_and_rating('disappointed', 1.0)"
   ]
  },
  {
   "cell_type": "markdown",
   "metadata": {},
   "source": [
    "### Option 2. Use FAISS"
   ]
  },
  {
   "cell_type": "code",
   "execution_count": 99,
   "metadata": {},
   "outputs": [
    {
     "name": "stdout",
     "output_type": "stream",
     "text": [
      "Number of vectors in the index: 719 . The dimension is: 768\n"
     ]
    }
   ],
   "source": [
    "# Create FAISS index\n",
    "import faiss\n",
    "\n",
    "vector_list = [item['values'] for item in data]\n",
    "vector_np = np.array(vector_list, dtype=np.float32)\n",
    "vector_dim = vector_np.shape[1]\n",
    "\n",
    "index = faiss.IndexFlatL2(vector_dim)\n",
    "index.add(vector_np)\n",
    "print(\"Number of vectors in the index:\", index.ntotal, \". The dimension is:\", vector_dim)"
   ]
  },
  {
   "cell_type": "code",
   "execution_count": 120,
   "metadata": {},
   "outputs": [
    {
     "name": "stdout",
     "output_type": "stream",
     "text": [
      "(array([[1.1885645, 1.2211387, 1.3141928, 1.3230431, 1.327287 , 1.3280946,\n",
      "        1.3313303, 1.3382936, 1.3405907, 1.3422668, 1.3560793, 1.3606681,\n",
      "        1.3693402, 1.3706024, 1.371312 , 1.3746797, 1.3812767, 1.3879317,\n",
      "        1.3994509, 1.4009572, 1.4066344, 1.4076196, 1.4100566, 1.4131273,\n",
      "        1.4145195, 1.4170316, 1.4267899, 1.4285368, 1.4297657, 1.4303744,\n",
      "        1.4363182, 1.439378 , 1.4439751, 1.4551479, 1.4553006, 1.4554669,\n",
      "        1.4560657, 1.456203 , 1.4569952, 1.4602433, 1.4619151, 1.462318 ,\n",
      "        1.4645083, 1.4656717, 1.470614 , 1.4713892, 1.4721059, 1.4727825,\n",
      "        1.4733442, 1.4748217, 1.475667 , 1.4766885, 1.4786202, 1.4793388,\n",
      "        1.4796015, 1.4797572, 1.4802284, 1.483944 , 1.4867296, 1.4876947,\n",
      "        1.4892585, 1.4894409, 1.4896647, 1.4931965, 1.4938257, 1.4948148,\n",
      "        1.4954383, 1.49684  , 1.4981658, 1.5000322, 1.5022714, 1.5044751,\n",
      "        1.5054857, 1.5067017, 1.5080144, 1.5093617, 1.5122651, 1.5146686,\n",
      "        1.5155785, 1.519015 , 1.5192891, 1.5194318, 1.5226624, 1.5236838,\n",
      "        1.5253557, 1.5255338, 1.527376 , 1.5275025, 1.5276904, 1.530091 ,\n",
      "        1.5317636, 1.5323685, 1.534125 , 1.5342054, 1.5369287, 1.5385139,\n",
      "        1.5395656, 1.5402209, 1.5415037, 1.541735 ]], dtype=float32), array([[329, 687,  69, 556, 590, 317, 457, 674, 232, 639, 417, 321, 386,\n",
      "        628, 492, 691,   6, 535, 604, 150, 303, 387, 359, 130, 212, 398,\n",
      "        304, 205, 276, 128, 438, 314, 464, 451, 608, 278, 146, 319, 462,\n",
      "        108, 343, 196, 298, 566, 578, 510, 651, 305, 507, 491, 706, 495,\n",
      "        193, 512, 443, 229, 131, 169, 546, 338,  25, 126, 156, 525, 341,\n",
      "        680, 459, 161, 225, 155, 237, 523, 471, 605, 672, 587, 224,   3,\n",
      "        673, 421, 666, 385, 242, 283, 381, 214, 397, 199, 361, 567, 530,\n",
      "        372, 129, 609, 107, 454,  34, 132, 446, 133]])) 2\n"
     ]
    }
   ],
   "source": [
    "# Run a filtered similarity search\n",
    "\n",
    "query=embeddings.embed_query(\"will buy again\")\n",
    "query_np = np.array([query], dtype=np.float32)\n",
    "results = index.search(query_np, k=100)\n",
    "print(results, len(results))"
   ]
  },
  {
   "cell_type": "code",
   "execution_count": 124,
   "metadata": {
    "id": "n6ekNjL8Brcm"
   },
   "outputs": [],
   "source": [
    "# Python function that retrieves reviews matching query and specific rate\n",
    "\n",
    "def review_and_rating(query, rating):\n",
    "    query=embeddings.embed_query(query)\n",
    "    # Define a query vector\n",
    "    query_np = np.array([query], dtype=np.float32)\n",
    "    # Perform a search for the k nearest neighbors\n",
    "    distances, indices = index.search(query_np, 100)\n",
    "    # Filter the search results based on rating\n",
    "    ids = []\n",
    "    \n",
    "    for idx, distance in zip(indices[0], distances[0]):\n",
    "        if data[idx]['metadata']['rating'] == rating:\n",
    "            ids.append(data[idx]['id'])\n",
    "\n",
    "    l=[]\n",
    "    for i in ids:\n",
    "        l.append(get_rating_from_id[i])\n",
    "    return pd.DataFrame(l)"
   ]
  },
  {
   "cell_type": "code",
   "execution_count": 132,
   "metadata": {
    "id": "4fdaZJGwBx33"
   },
   "outputs": [
    {
     "name": "stdout",
     "output_type": "stream",
     "text": [
      "    rating                                             review\n",
      "0      5.0  very happy with my purchase. it was exactly wh...\n",
      "1      5.0  Bought 2 so far, good looking and they hold th...\n",
      "2      5.0  This is an excellent value!  I received the pr...\n",
      "3      5.0  I just bought this past month and i cant ask f...\n",
      "4      5.0  Looks awesome, feels awesome, was exactly as p...\n",
      "..     ...                                                ...\n",
      "69     5.0  I am thrilled with the fabric and look of this...\n",
      "70     5.0  i love the feel of the clothing, the color is ...\n",
      "71     5.0  I bought mine in the dark brown and black colo...\n",
      "72     5.0  Just what I wanted. Great quality product that...\n",
      "73     5.0  Yes cant beat these for the price plus everyon...\n",
      "\n",
      "[74 rows x 2 columns]\n",
      "   rating                                             review\n",
      "0     1.0  I recently ordered six of these and quite fran...\n",
      "1     1.0  The light green scarf I ordered finally showed...\n",
      "2     1.0  This is a huge let down and disappointment to ...\n",
      "3     1.0  This will be a negative review, which I can no...\n",
      "4     1.0  I bought two scarfs one grey/black and black/b...\n",
      "5     1.0  I received this shemagh about 5 days after the...\n",
      "6     1.0  Really upset with this product, it is the exac...\n",
      "7     1.0  This item is cheap and flimsy compared to my o...\n",
      "8     1.0  I don't know... 1 star was as close to N/A as ...\n"
     ]
    }
   ],
   "source": [
    "# Repurchase list and winback list\n",
    "\n",
    "repurchase_list=review_and_rating('will purchase again', 5.0)\n",
    "winback=review_and_rating('disappointed', 1.0)\n",
    "\n",
    "print(repurchase_list)\n",
    "print(winback)"
   ]
  }
 ],
 "metadata": {
  "colab": {
   "authorship_tag": "ABX9TyO6+Sy9CskVr7oBXABvSo8e",
   "include_colab_link": true,
   "provenance": []
  },
  "kernelspec": {
   "display_name": "Python 3 (ipykernel)",
   "language": "python",
   "name": "python3"
  },
  "language_info": {
   "codemirror_mode": {
    "name": "ipython",
    "version": 3
   },
   "file_extension": ".py",
   "mimetype": "text/x-python",
   "name": "python",
   "nbconvert_exporter": "python",
   "pygments_lexer": "ipython3",
   "version": "3.10.11"
  }
 },
 "nbformat": 4,
 "nbformat_minor": 1
}
